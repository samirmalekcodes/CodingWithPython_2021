{
 "cells": [
  {
   "cell_type": "markdown",
   "id": "39254187",
   "metadata": {},
   "source": [
    "## Question 1"
   ]
  },
  {
   "cell_type": "code",
   "execution_count": 2,
   "id": "b641499d",
   "metadata": {
    "scrolled": true
   },
   "outputs": [
    {
     "name": "stdout",
     "output_type": "stream",
     "text": [
      "Input your First Name : Samir\n",
      "Input your Last Name : Malek\n",
      "Hi, My name is  Malek Samir\n"
     ]
    }
   ],
   "source": [
    "first_name = input(\"Input your First Name : \")\n",
    "last_name = input(\"Input your Last Name : \")\n",
    "print (\"Hi, My name is  \" + last_name + \" \" + first_name)"
   ]
  },
  {
   "cell_type": "markdown",
   "id": "d858e9ce",
   "metadata": {},
   "source": [
    "## Question 2"
   ]
  },
  {
   "cell_type": "code",
   "execution_count": 3,
   "id": "e992931a",
   "metadata": {},
   "outputs": [
    {
     "name": "stdout",
     "output_type": "stream",
     "text": [
      "Input an integer : 4\n",
      "492\n"
     ]
    }
   ],
   "source": [
    "num = int(input(\"Input an integer : \"))\n",
    "n1 = int( \"%s\" % num )\n",
    "n2 = int( \"%s%s\" % (num,num) )\n",
    "n3 = int( \"%s%s%s\" % (num,num,num) )\n",
    "print (n1+n2+n3)\n"
   ]
  },
  {
   "cell_type": "markdown",
   "id": "eb5ee23b",
   "metadata": {},
   "source": [
    "## Question 3"
   ]
  },
  {
   "cell_type": "code",
   "execution_count": 5,
   "id": "99036b65",
   "metadata": {},
   "outputs": [
    {
     "name": "stdout",
     "output_type": "stream",
     "text": [
      "Enter a number: 2\n",
      "This is an even number.\n"
     ]
    }
   ],
   "source": [
    "num = int(input(\"Enter a number: \"))\n",
    "mod = num % 2\n",
    "if mod > 0:\n",
    "    print(\"This is an odd number.\")\n",
    "else:\n",
    "    print(\"This is an even number.\")"
   ]
  },
  {
   "cell_type": "code",
   "execution_count": 6,
   "id": "30d8541f",
   "metadata": {},
   "outputs": [
    {
     "name": "stdout",
     "output_type": "stream",
     "text": [
      "Enter a number: 5\n",
      "This is an odd number.\n"
     ]
    }
   ],
   "source": [
    "num = int(input(\"Enter a number: \"))\n",
    "mod = num % 2\n",
    "if mod > 0:\n",
    "    print(\"This is an odd number.\")\n",
    "else:\n",
    "    print(\"This is an even number.\")"
   ]
  },
  {
   "cell_type": "markdown",
   "id": "a6f4538c",
   "metadata": {},
   "source": [
    "## Question 4"
   ]
  },
  {
   "cell_type": "code",
   "execution_count": 7,
   "id": "8d36ef85",
   "metadata": {},
   "outputs": [
    {
     "name": "stdout",
     "output_type": "stream",
     "text": [
      "2002,2009,2016,2023,2037,2044,2051,2058,2072,2079,2086,2093,2107,2114,2121,2128,2142,2149,2156,2163,2177,2184,2191,2198,2212,2219,2226,2233,2247,2254,2261,2268,2282,2289,2296,2303,2317,2324,2331,2338,2352,2359,2366,2373,2387,2394,2401,2408,2422,2429,2436,2443,2457,2464,2471,2478,2492,2499,2506,2513,2527,2534,2541,2548,2562,2569,2576,2583,2597,2604,2611,2618,2632,2639,2646,2653,2667,2674,2681,2688,2702,2709,2716,2723,2737,2744,2751,2758,2772,2779,2786,2793,2807,2814,2821,2828,2842,2849,2856,2863,2877,2884,2891,2898,2912,2919,2926,2933,2947,2954,2961,2968,2982,2989,2996,3003,3017,3024,3031,3038,3052,3059,3066,3073,3087,3094,3101,3108,3122,3129,3136,3143,3157,3164,3171,3178,3192,3199\n"
     ]
    }
   ],
   "source": [
    "l=[]\n",
    "for i in range(2000, 3201):\n",
    "    if (i%7==0) and (i%5!=0):\n",
    "        l.append(str(i))\n",
    "\n",
    "print(','.join(l))"
   ]
  },
  {
   "cell_type": "markdown",
   "id": "8964d4c8",
   "metadata": {},
   "source": [
    "## Question 5"
   ]
  },
  {
   "cell_type": "code",
   "execution_count": 11,
   "id": "f9e0bcbf",
   "metadata": {},
   "outputs": [
    {
     "name": "stdout",
     "output_type": "stream",
     "text": [
      "Factorial of this number is : 8\n",
      "40320\n"
     ]
    }
   ],
   "source": [
    "def fact(x):\n",
    "    if x == 0:\n",
    "        return 1\n",
    "    return x * fact(x - 1)\n",
    "\n",
    "x=int(input(\"Factorial of this number is : \" ))\n",
    "print(fact(x))"
   ]
  },
  {
   "cell_type": "markdown",
   "id": "428c6701",
   "metadata": {},
   "source": [
    "## Question 6"
   ]
  },
  {
   "cell_type": "code",
   "execution_count": 12,
   "id": "82be9f73",
   "metadata": {},
   "outputs": [
    {
     "name": "stdout",
     "output_type": "stream",
     "text": [
      "hlota\n"
     ]
    }
   ],
   "source": [
    "def odd_values_string(str):\n",
    "  result = \"\" \n",
    "  for i in range(len(str)):\n",
    "    if i % 2 == 0:\n",
    "      result = result + str[i]\n",
    "  return result\n",
    "\n",
    "print(odd_values_string('hello team'))"
   ]
  },
  {
   "cell_type": "markdown",
   "id": "47f42552",
   "metadata": {},
   "source": [
    "## Question 7"
   ]
  },
  {
   "cell_type": "code",
   "execution_count": 21,
   "id": "d5ec5323",
   "metadata": {},
   "outputs": [
    {
     "name": "stdout",
     "output_type": "stream",
     "text": [
      "Enter selling price : 501\n",
      "Discount : 250.5\n"
     ]
    }
   ],
   "source": [
    "def discountedprice(amount):\n",
    "    if amount <= 0:\n",
    "        return 0;\n",
    "    elif amount <200:\n",
    "        return amount*0.1;\n",
    "    elif amount <=500:\n",
    "        return amount*0.3;\n",
    "    else:\n",
    "        return amount*0.5;\n",
    "selling_price = int(input(\"Enter selling price : \"))\n",
    "discount = discountedprice(selling_price)\n",
    "\n",
    "print(\"Discount : {}\".format(discount))"
   ]
  },
  {
   "cell_type": "code",
   "execution_count": 22,
   "id": "f93d9dd0",
   "metadata": {},
   "outputs": [
    {
     "name": "stdout",
     "output_type": "stream",
     "text": [
      "Enter selling price : 199\n",
      "Discount : 19.900000000000002\n"
     ]
    }
   ],
   "source": [
    "def discountedprice(amount):\n",
    "    if amount <= 0:\n",
    "        return 0;\n",
    "    elif amount <200:\n",
    "        return amount*0.1;\n",
    "    elif amount <=500:\n",
    "        return amount*0.3;\n",
    "    else:\n",
    "        return amount*0.5;\n",
    "selling_price = int(input(\"Enter selling price : \"))\n",
    "discount = discountedprice(selling_price)\n",
    "\n",
    "print(\"Discount : {}\".format(discount))"
   ]
  },
  {
   "cell_type": "code",
   "execution_count": 23,
   "id": "24ad4485",
   "metadata": {},
   "outputs": [
    {
     "name": "stdout",
     "output_type": "stream",
     "text": [
      "Enter selling price : 200\n",
      "Discount : 60.0\n"
     ]
    }
   ],
   "source": [
    "def discountedprice(amount):\n",
    "    if amount <= 0:\n",
    "        return 0;\n",
    "    elif amount <200:\n",
    "        return amount*0.1;\n",
    "    elif amount <=500:\n",
    "        return amount*0.3;\n",
    "    else:\n",
    "        return amount*0.5;\n",
    "selling_price = int(input(\"Enter selling price : \"))\n",
    "discount = discountedprice(selling_price)\n",
    "\n",
    "print(\"Discount : {}\".format(discount))"
   ]
  },
  {
   "cell_type": "code",
   "execution_count": null,
   "id": "519ef3f5",
   "metadata": {},
   "outputs": [],
   "source": []
  }
 ],
 "metadata": {
  "kernelspec": {
   "display_name": "Python 3",
   "language": "python",
   "name": "python3"
  },
  "language_info": {
   "codemirror_mode": {
    "name": "ipython",
    "version": 3
   },
   "file_extension": ".py",
   "mimetype": "text/x-python",
   "name": "python",
   "nbconvert_exporter": "python",
   "pygments_lexer": "ipython3",
   "version": "3.9.5"
  }
 },
 "nbformat": 4,
 "nbformat_minor": 5
}
