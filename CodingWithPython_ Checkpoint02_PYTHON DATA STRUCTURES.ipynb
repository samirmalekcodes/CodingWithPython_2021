{
 "cells": [
  {
   "cell_type": "markdown",
   "id": "02b095ed",
   "metadata": {},
   "source": [
    "## QUESTION 1"
   ]
  },
  {
   "cell_type": "code",
   "execution_count": 3,
   "id": "3d23ad4f",
   "metadata": {},
   "outputs": [
    {
     "name": "stdout",
     "output_type": "stream",
     "text": [
      "36\n"
     ]
    }
   ],
   "source": [
    "def multiply_list(items):\n",
    "    total = 1\n",
    "    for x in items:\n",
    "        total *= x\n",
    "    return total\n",
    "print(multiply_list([2,3,6]))"
   ]
  },
  {
   "cell_type": "markdown",
   "id": "94fe9c2b",
   "metadata": {},
   "source": [
    "## QUESTION 2"
   ]
  },
  {
   "cell_type": "code",
   "execution_count": 4,
   "id": "05f7e3b8",
   "metadata": {},
   "outputs": [
    {
     "name": "stdout",
     "output_type": "stream",
     "text": [
      "[(2, 1), (1, 2), (2, 3), (4, 4), (2, 5)]\n"
     ]
    }
   ],
   "source": [
    "def last(n): return n[-1]\n",
    "\n",
    "def sort_list_last(tuples):\n",
    "  return sorted(tuples, key=last)\n",
    "\n",
    "print(sort_list_last([(2, 5), (1, 2), (4, 4), (2, 3), (2, 1)]))"
   ]
  },
  {
   "cell_type": "markdown",
   "id": "d52ae2c6",
   "metadata": {},
   "source": [
    "## QUESTION 3"
   ]
  },
  {
   "cell_type": "code",
   "execution_count": 5,
   "id": "d4ea5cb9",
   "metadata": {},
   "outputs": [
    {
     "name": "stdout",
     "output_type": "stream",
     "text": [
      "{'a': 400, 'b': 400, 'c': 300, 'd': 400}\n"
     ]
    }
   ],
   "source": [
    "data1 = {'a': 100, 'b': 200, 'c': 300}\n",
    "data2 = {'a': 300, 'b': 200, 'd': 400}\n",
    "\n",
    "for i in data2 :\n",
    "    if i in data1 :\n",
    "        data1[ i ] = data1[ i ] + data2[ i ]\n",
    "    else :\n",
    "        data1[ i ] = data2[ i ]\n",
    "print(data1)"
   ]
  },
  {
   "cell_type": "markdown",
   "id": "c7f556c4",
   "metadata": {},
   "source": [
    "## QUESTION 4"
   ]
  },
  {
   "cell_type": "code",
   "execution_count": 6,
   "id": "6105eab8",
   "metadata": {},
   "outputs": [
    {
     "name": "stdout",
     "output_type": "stream",
     "text": [
      "8\n",
      "{1: 1, 2: 4, 3: 9, 4: 16, 5: 25, 6: 36, 7: 49, 8: 64}\n"
     ]
    }
   ],
   "source": [
    "number=int(input())\n",
    "data=dict()\n",
    "for i in range(1,number+1):\n",
    "    data[i]=i*i\n",
    "\n",
    "print(data)"
   ]
  },
  {
   "cell_type": "markdown",
   "id": "f29e724f",
   "metadata": {},
   "source": [
    "## QUESTION 5"
   ]
  },
  {
   "cell_type": "code",
   "execution_count": 7,
   "id": "41a8578b",
   "metadata": {},
   "outputs": [
    {
     "name": "stdout",
     "output_type": "stream",
     "text": [
      "[('item3', '24.5'), ('item2', '15.10'), ('item1', '12.20')]\n"
     ]
    }
   ],
   "source": [
    "# Python code to sort the tuples using float element\n",
    "def Sort(tup):\n",
    "\ttup.sort(key = lambda x: float(x[1]), reverse = True)\n",
    "\tprint(tup)\n",
    "\n",
    "tup = [('item1', '12.20'), ('item2', '15.10'), ('item3', '24.5')]\n",
    "Sort(tup)"
   ]
  },
  {
   "cell_type": "code",
   "execution_count": null,
   "id": "0f0cff28",
   "metadata": {},
   "outputs": [],
   "source": []
  }
 ],
 "metadata": {
  "kernelspec": {
   "display_name": "Python 3",
   "language": "python",
   "name": "python3"
  },
  "language_info": {
   "codemirror_mode": {
    "name": "ipython",
    "version": 3
   },
   "file_extension": ".py",
   "mimetype": "text/x-python",
   "name": "python",
   "nbconvert_exporter": "python",
   "pygments_lexer": "ipython3",
   "version": "3.9.5"
  }
 },
 "nbformat": 4,
 "nbformat_minor": 5
}
